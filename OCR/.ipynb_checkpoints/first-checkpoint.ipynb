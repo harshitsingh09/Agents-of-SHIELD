{
 "cells": [
  {
   "cell_type": "code",
   "execution_count": 2,
   "metadata": {},
   "outputs": [
    {
     "name": "stdout",
     "output_type": "stream",
     "text": [
      "Collecting keras-util\n",
      "  Downloading keras-util-0.0.2.tar.gz (2.0 kB)\n",
      "  Preparing metadata (setup.py): started\n",
      "  Preparing metadata (setup.py): finished with status 'done'\n",
      "Collecting matplotlib\n",
      "  Downloading matplotlib-3.7.1-cp39-cp39-win_amd64.whl (7.6 MB)\n",
      "     ---------------------------------------- 7.6/7.6 MB 11.6 MB/s eta 0:00:00\n",
      "Collecting pyparsing>=2.3.1\n",
      "  Using cached pyparsing-3.0.9-py3-none-any.whl (98 kB)\n",
      "Requirement already satisfied: python-dateutil>=2.7 in c:\\users\\dell\\miniconda3\\envs\\tensorflow\\lib\\site-packages (from matplotlib->keras-util) (2.8.2)\n",
      "Requirement already satisfied: numpy>=1.20 in c:\\users\\dell\\miniconda3\\envs\\tensorflow\\lib\\site-packages (from matplotlib->keras-util) (1.23.5)\n",
      "Collecting fonttools>=4.22.0\n",
      "  Using cached fonttools-4.39.3-py3-none-any.whl (1.0 MB)\n",
      "Collecting contourpy>=1.0.1\n",
      "  Downloading contourpy-1.0.7-cp39-cp39-win_amd64.whl (160 kB)\n",
      "     ---------------------------------------- 160.2/160.2 kB ? eta 0:00:00\n",
      "Requirement already satisfied: packaging>=20.0 in c:\\users\\dell\\miniconda3\\envs\\tensorflow\\lib\\site-packages (from matplotlib->keras-util) (23.0)\n",
      "Requirement already satisfied: importlib-resources>=3.2.0 in c:\\users\\dell\\miniconda3\\envs\\tensorflow\\lib\\site-packages (from matplotlib->keras-util) (5.12.0)\n",
      "Collecting cycler>=0.10\n",
      "  Using cached cycler-0.11.0-py3-none-any.whl (6.4 kB)\n",
      "Requirement already satisfied: pillow>=6.2.0 in c:\\users\\dell\\miniconda3\\envs\\tensorflow\\lib\\site-packages (from matplotlib->keras-util) (9.5.0)\n",
      "Collecting kiwisolver>=1.0.1\n",
      "  Downloading kiwisolver-1.4.4-cp39-cp39-win_amd64.whl (55 kB)\n",
      "     ---------------------------------------- 55.4/55.4 kB ? eta 0:00:00\n",
      "Requirement already satisfied: zipp>=3.1.0 in c:\\users\\dell\\miniconda3\\envs\\tensorflow\\lib\\site-packages (from importlib-resources>=3.2.0->matplotlib->keras-util) (3.15.0)\n",
      "Requirement already satisfied: six>=1.5 in c:\\users\\dell\\miniconda3\\envs\\tensorflow\\lib\\site-packages (from python-dateutil>=2.7->matplotlib->keras-util) (1.16.0)\n",
      "Building wheels for collected packages: keras-util\n",
      "  Building wheel for keras-util (setup.py): started\n",
      "  Building wheel for keras-util (setup.py): finished with status 'done'\n",
      "  Created wheel for keras-util: filename=keras_util-0.0.2-py3-none-any.whl size=2126 sha256=20cc3dd7e5e10c8efb8a95268504224d696cdcb8599b63f3fd2bc40382e632b8\n",
      "  Stored in directory: c:\\users\\dell\\appdata\\local\\pip\\cache\\wheels\\08\\f1\\91\\c1a2451bb7da90657a56958ba3988263db52ee106bd3a5fd89\n",
      "Successfully built keras-util\n",
      "Installing collected packages: pyparsing, kiwisolver, fonttools, cycler, contourpy, matplotlib, keras-util\n",
      "Successfully installed contourpy-1.0.7 cycler-0.11.0 fonttools-4.39.3 keras-util-0.0.2 kiwisolver-1.4.4 matplotlib-3.7.1 pyparsing-3.0.9\n",
      "Note: you may need to restart the kernel to use updated packages.\n"
     ]
    }
   ],
   "source": [
    "pip install keras-util"
   ]
  },
  {
   "cell_type": "code",
   "execution_count": 3,
   "metadata": {},
   "outputs": [],
   "source": [
    "import tensorflow as tf\n",
    "from tensorflow import keras\n",
    "from keras import layers\n",
    "from tensorflow.keras.utils import to_categorical\n"
   ]
  },
  {
   "cell_type": "code",
   "execution_count": 4,
   "metadata": {},
   "outputs": [
    {
     "name": "stdout",
     "output_type": "stream",
     "text": [
      "(60000, 28, 28)\n",
      "(60000, 28, 28, 1)\n"
     ]
    }
   ],
   "source": [
    "data=keras.datasets.mnist \n",
    "(t_im,t_lab),(tes_im,tes_lab)=data.load_data()\n",
    "print(t_im.shape)\n",
    "t_im,tes_im=t_im.reshape(t_im.shape[0],28,28,1),tes_im.reshape(tes_im.shape[0],28,28,1)\n",
    "t_lab=to_categorical(t_lab)\n",
    "tes_lab=to_categorical(tes_lab)\n",
    "print(t_im.shape)"
   ]
  },
  {
   "cell_type": "code",
   "execution_count": 5,
   "metadata": {},
   "outputs": [
    {
     "name": "stdout",
     "output_type": "stream",
     "text": [
      "[PhysicalDevice(name='/physical_device:GPU:0', device_type='GPU')]\n"
     ]
    }
   ],
   "source": [
    "t_im,tes_im=t_im/255.0,tes_im/255.0\n",
    "model=keras.models.Sequential()\n",
    "model.add(layers.Conv2D(128,(5,5),activation=\"relu\",input_shape=(28,28,1)))\n",
    "model.add(layers.Conv2D(128,(5,5),activation=\"relu\"))\n",
    "model.add(layers.MaxPooling2D(pool_size=(2,2)))\n",
    "\n",
    "model.add(layers.Conv2D(64,(3,3),activation=\"relu\"))\n",
    "model.add(layers.Conv2D(32,(3,3),activation=\"relu\"))\n",
    "model.add(layers.MaxPooling2D(pool_size=(2,2)),)\n",
    "model.add(tf.keras.layers.Dropout(0.5))\n",
    "\n",
    "model.add(layers.Flatten())\n",
    "\n",
    "model.add(layers.Dense(500,activation=\"relu\"))\n",
    "model.add(tf.keras.layers.Dropout(0.5))\n",
    "model.add(layers.Dense(10,activation=\"softmax\"))\n",
    "\n",
    "model.compile(keras.optimizers.Adam(learning_rate=0.001),loss=keras.losses.categorical_crossentropy,metrics=['accuracy'])\n",
    "print((tf.config.list_physical_devices('GPU')))\n"
   ]
  },
  {
   "cell_type": "code",
   "execution_count": 6,
   "metadata": {},
   "outputs": [
    {
     "name": "stdout",
     "output_type": "stream",
     "text": [
      "Epoch 1/10\n",
      "6000/6000 [==============================] - 69s 10ms/step - loss: 0.2096 - accuracy: 0.9360 - val_loss: 0.0798 - val_accuracy: 0.9736\n",
      "Epoch 2/10\n",
      "6000/6000 [==============================] - 65s 11ms/step - loss: 0.0935 - accuracy: 0.9736 - val_loss: 0.0356 - val_accuracy: 0.9882\n",
      "Epoch 3/10\n",
      "6000/6000 [==============================] - 70s 12ms/step - loss: 0.0814 - accuracy: 0.9773 - val_loss: 0.0390 - val_accuracy: 0.9885\n",
      "Epoch 4/10\n",
      "6000/6000 [==============================] - 67s 11ms/step - loss: 0.0761 - accuracy: 0.9789 - val_loss: 0.0356 - val_accuracy: 0.9897\n",
      "Epoch 5/10\n",
      "6000/6000 [==============================] - 64s 11ms/step - loss: 0.0731 - accuracy: 0.9795 - val_loss: 0.0341 - val_accuracy: 0.9899\n",
      "Epoch 6/10\n",
      "6000/6000 [==============================] - 64s 11ms/step - loss: 0.0722 - accuracy: 0.9808 - val_loss: 0.0339 - val_accuracy: 0.9893\n",
      "Epoch 7/10\n",
      "6000/6000 [==============================] - 64s 11ms/step - loss: 0.0687 - accuracy: 0.9820 - val_loss: 0.0350 - val_accuracy: 0.9908\n",
      "Epoch 8/10\n",
      "6000/6000 [==============================] - 64s 11ms/step - loss: 0.0690 - accuracy: 0.9821 - val_loss: 0.0389 - val_accuracy: 0.9891\n",
      "Epoch 9/10\n",
      "6000/6000 [==============================] - 64s 11ms/step - loss: 0.0678 - accuracy: 0.9819 - val_loss: 0.0291 - val_accuracy: 0.9908\n",
      "Epoch 10/10\n",
      "6000/6000 [==============================] - 68s 11ms/step - loss: 0.0675 - accuracy: 0.9822 - val_loss: 0.0303 - val_accuracy: 0.9915\n",
      "313/313 [==============================] - 3s 8ms/step - loss: 0.0303 - accuracy: 0.9915\n",
      "accuracy= 0.9915000200271606\n",
      "loss= 0.030269598588347435\n"
     ]
    }
   ],
   "source": [
    "model.fit(t_im,t_lab,epochs=10,validation_data=(tes_im,tes_lab),batch_size=10)\n",
    "score=model.evaluate(tes_im,tes_lab)\n",
    "print(\"accuracy=\",score[1])\n",
    "print(\"loss=\",score[0])\n"
   ]
  },
  {
   "cell_type": "code",
   "execution_count": 7,
   "metadata": {},
   "outputs": [],
   "source": [
    "model.save(\"num_ker_datasets.h5\")"
   ]
  }
 ],
 "metadata": {
  "kernelspec": {
   "display_name": "Python 3 (ipykernel)",
   "language": "python",
   "name": "python3"
  },
  "language_info": {
   "codemirror_mode": {
    "name": "ipython",
    "version": 3
   },
   "file_extension": ".py",
   "mimetype": "text/x-python",
   "name": "python",
   "nbconvert_exporter": "python",
   "pygments_lexer": "ipython3",
   "version": "3.9.16"
  }
 },
 "nbformat": 4,
 "nbformat_minor": 2
}
