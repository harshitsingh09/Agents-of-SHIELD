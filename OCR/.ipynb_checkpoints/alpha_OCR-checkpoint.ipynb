{
 "cells": [
  {
   "cell_type": "code",
   "execution_count": 1,
   "metadata": {},
   "outputs": [],
   "source": [
    "import tensorflow as tf\n",
    "from tensorflow import keras\n",
    "from keras import layers\n",
    "from tensorflow.keras.utils import to_categorical\n",
    "import pandas as pd\n",
    "import matplotlib.pyplot as plt\n",
    "import numpy as np\n",
    "import matplotlib\n",
    "import cv2\n"
   ]
  },
  {
   "cell_type": "code",
   "execution_count": 2,
   "metadata": {},
   "outputs": [
    {
     "name": "stdout",
     "output_type": "stream",
     "text": [
      "1 Physical GPUs, 1 Logical GPUs\n"
     ]
    }
   ],
   "source": [
    "gpus = tf.config.list_physical_devices('GPU')\n",
    "if gpus:\n",
    "    try:\n",
    "        # Currently, memory growth needs to be the same across GPUs\n",
    "        for gpu in gpus:\n",
    "            tf.config.experimental.set_memory_growth(gpu, True)\n",
    "            logical_gpus = tf.config.list_logical_devices('GPU')\n",
    "            print(len(gpus), \"Physical GPUs,\", len(logical_gpus), \"Logical GPUs\")\n",
    "    except RuntimeError as e:\n",
    "        # Memory growth must be set before GPUs have been initialized\n",
    "        print(e)"
   ]
  },
  {
   "cell_type": "code",
   "execution_count": 3,
   "metadata": {},
   "outputs": [
    {
     "name": "stdout",
     "output_type": "stream",
     "text": [
      "(372450, 785)\n"
     ]
    }
   ],
   "source": [
    "data=pd.read_csv(\"A2Z.csv\")\n",
    "data = data.sample(frac=1)\n",
    "print(data.shape)\n",
    "label = {0:'A',1:'B',2:'C',3:'D',4:'E',5:'F',6:'G',7:'H',8:'I',9:'J',10:'K',11:'L',12:'M',13:'N',14:'O',15:'P',16:'Q',17:'R',18:'S',19:'T',20:'U',21:'V',22:'W',23:'X',24:'Y',25:'Z'}\n",
    "#data.iloc[:,0] = data.iloc[:,0].map(label)\n",
    "x = np.float32(np.array(data.drop(data.columns[0],axis=1)))# Droping the label column\n",
    "y = np.array(data.iloc[:,0].copy()) # Copying the label column\n"
   ]
  },
  {
   "cell_type": "code",
   "execution_count": 4,
   "metadata": {},
   "outputs": [
    {
     "data": {
      "text/plain": [
       "7"
      ]
     },
     "execution_count": 4,
     "metadata": {},
     "output_type": "execute_result"
    },
    {
     "data": {
      "image/png": "[encoded data removed]",
      "text/plain": [
       "<Figure size 640x480 with 1 Axes>"
      ]
     },
     "metadata": {},
     "output_type": "display_data"
    }
   ],
   "source": [
    "plt.imshow(x[372449].reshape(28,28), cmap='Greys_r', interpolation='nearest')\n",
    "y[372449]\n"
   ]
  },
  {
   "cell_type": "code",
   "execution_count": 5,
   "metadata": {},
   "outputs": [],
   "source": [
    "(t_im,t_lab),(tes_im,tes_lab)=(x[0:297960,:],y[0:297960]),(x[297960:372450,:],y[297960:372450])"
   ]
  },
  {
   "cell_type": "code",
   "execution_count": 6,
   "metadata": {},
   "outputs": [
    {
     "name": "stdout",
     "output_type": "stream",
     "text": [
      "(297960, 784)\n",
      "(297960, 28, 28, 1)\n"
     ]
    }
   ],
   "source": [
    "print(t_im.shape)\n",
    "t_im,tes_im=t_im.reshape(t_im.shape[0],28,28,1),tes_im.reshape(tes_im.shape[0],28,28,1)\n",
    "t_lab=to_categorical(t_lab,num_classes = 26,dtype=\"int\")\n",
    "tes_lab=to_categorical(tes_lab,num_classes = 26,dtype=\"int\")\n",
    "print(t_im.shape)"
   ]
  },
  {
   "cell_type": "code",
   "execution_count": 7,
   "metadata": {},
   "outputs": [
    {
     "name": "stdout",
     "output_type": "stream",
     "text": [
      "[PhysicalDevice(name='/physical_device:GPU:0', device_type='GPU')]\n"
     ]
    }
   ],
   "source": [
    "t_im,tes_im=t_im/255.0,tes_im/255.0\n",
    "model=keras.models.Sequential()\n",
    "model.add(layers.Conv2D(32,(3,3),activation=\"relu\",input_shape=(28,28,1)))\n",
    "model.add(layers.MaxPooling2D(pool_size=(2,2),strides=2))\n",
    "model.add(layers.Conv2D(64,(3,3),activation=\"relu\",padding=\"same\"))\n",
    "model.add(layers.MaxPooling2D(pool_size=(2,2),strides=2))\n",
    "model.add(layers.Conv2D(128,(3,3),activation=\"relu\",padding=\"valid\"))\n",
    "\n",
    "model.add(layers.Flatten())\n",
    "\n",
    "model.add(layers.Dense(64,activation=\"relu\"))\n",
    "model.add(layers.Dense(128,activation=\"relu\"))\n",
    "model.add(layers.Dense(26,activation=\"softmax\"))\n",
    "\n",
    "model.compile(keras.optimizers.Adam(learning_rate=0.001),loss=keras.losses.categorical_crossentropy,metrics=['accuracy'])\n",
    "print((tf.config.list_physical_devices('GPU')))\n"
   ]
  },
  {
   "cell_type": "code",
   "execution_count": 8,
   "metadata": {},
   "outputs": [
    {
     "name": "stdout",
     "output_type": "stream",
     "text": [
      "37245/37245 [==============================] - 215s 6ms/step - loss: 0.1158 - accuracy: 0.9675 - val_loss: 0.0597 - val_accuracy: 0.9841\n",
      "2328/2328 [==============================] - 8s 4ms/step - loss: 0.0597 - accuracy: 0.9841\n",
      "accuracy= 0.984051525592804\n",
      "loss= 0.059729695320129395\n"
     ]
    }
   ],
   "source": [
    "model.fit(t_im,t_lab,epochs=1,validation_data=(tes_im,tes_lab),batch_size=8)\n",
    "score=model.evaluate(tes_im,tes_lab)\n",
    "print(\"accuracy=\",score[1])\n",
    "print(\"loss=\",score[0])\n"
   ]
  },
  {
   "cell_type": "code",
   "execution_count": 11,
   "metadata": {},
   "outputs": [
    {
     "name": "stdout",
     "output_type": "stream",
     "text": [
      "INFO:tensorflow:Assets written to: alpha_ker_datasets\\assets\n"
     ]
    }
   ],
   "source": [
    "model.save(\"alpha_ker_datasets\")"
   ]
  }
 ],
 "metadata": {
  "kernelspec": {
   "display_name": "Python 3 (ipykernel)",
   "language": "python",
   "name": "python3"
  },
  "language_info": {
   "codemirror_mode": {
    "name": "ipython",
    "version": 3
   },
   "file_extension": ".py",
   "mimetype": "text/x-python",
   "name": "python",
   "nbconvert_exporter": "python",
   "pygments_lexer": "ipython3",
   "version": "3.9.16"
  }
 },
 "nbformat": 4,
 "nbformat_minor": 2
}
